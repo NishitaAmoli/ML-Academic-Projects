{
 "cells": [
  {
   "cell_type": "code",
   "execution_count": 25,
   "id": "5a45ddc9",
   "metadata": {},
   "outputs": [],
   "source": [
    "#importing libraries\n",
    "import numpy as np\n",
    "import tensorflow as tf\n",
    "from keras.preprocessing.image import ImageDataGenerator"
   ]
  },
  {
   "cell_type": "code",
   "execution_count": 139,
   "id": "d41d9ebc",
   "metadata": {},
   "outputs": [
    {
     "name": "stdout",
     "output_type": "stream",
     "text": [
      "Collecting gradio\n",
      "  Downloading gradio-3.33.1-py3-none-any.whl (20.0 MB)\n",
      "     ---------------------------------------- 20.0/20.0 MB 1.2 MB/s eta 0:00:00\n",
      "Collecting websockets>=10.0\n",
      "  Downloading websockets-11.0.3-cp310-cp310-win_amd64.whl (124 kB)\n",
      "     ------------------------------------ 124.7/124.7 kB 811.6 kB/s eta 0:00:00\n",
      "Collecting huggingface-hub>=0.14.0\n",
      "  Downloading huggingface_hub-0.15.1-py3-none-any.whl (236 kB)\n",
      "     ------------------------------------ 236.8/236.8 kB 690.9 kB/s eta 0:00:00\n",
      "Collecting mdit-py-plugins<=0.3.3\n",
      "  Downloading mdit_py_plugins-0.3.3-py3-none-any.whl (50 kB)\n",
      "     ---------------------------------------- 50.5/50.5 kB 2.5 MB/s eta 0:00:00\n",
      "Collecting python-multipart\n",
      "  Downloading python_multipart-0.0.6-py3-none-any.whl (45 kB)\n",
      "     -------------------------------------- 45.7/45.7 kB 754.7 kB/s eta 0:00:00\n",
      "Collecting aiofiles\n",
      "  Downloading aiofiles-23.1.0-py3-none-any.whl (14 kB)\n",
      "Requirement already satisfied: pillow in c:\\users\\nishi\\anaconda3\\lib\\site-packages (from gradio) (9.4.0)\n",
      "Collecting aiohttp\n",
      "  Downloading aiohttp-3.8.4-cp310-cp310-win_amd64.whl (319 kB)\n",
      "     ------------------------------------ 319.8/319.8 kB 825.6 kB/s eta 0:00:00\n",
      "Requirement already satisfied: jinja2 in c:\\users\\nishi\\anaconda3\\lib\\site-packages (from gradio) (3.1.2)\n",
      "Requirement already satisfied: markupsafe in c:\\users\\nishi\\anaconda3\\lib\\site-packages (from gradio) (2.1.1)\n",
      "Requirement already satisfied: requests in c:\\users\\nishi\\anaconda3\\lib\\site-packages (from gradio) (2.28.1)\n",
      "Collecting altair>=4.2.0\n",
      "  Downloading altair-5.0.1-py3-none-any.whl (471 kB)\n",
      "     ------------------------------------ 471.5/471.5 kB 687.4 kB/s eta 0:00:00\n",
      "Requirement already satisfied: pyyaml in c:\\users\\nishi\\anaconda3\\lib\\site-packages (from gradio) (6.0)\n",
      "Collecting ffmpy\n",
      "  Downloading ffmpy-0.3.0.tar.gz (4.8 kB)\n",
      "  Preparing metadata (setup.py): started\n",
      "  Preparing metadata (setup.py): finished with status 'done'\n",
      "Collecting semantic-version\n",
      "  Downloading semantic_version-2.10.0-py2.py3-none-any.whl (15 kB)\n",
      "Collecting orjson\n",
      "  Downloading orjson-3.9.0-cp310-none-win_amd64.whl (191 kB)\n",
      "     ------------------------------------ 191.7/191.7 kB 970.4 kB/s eta 0:00:00\n",
      "Requirement already satisfied: matplotlib in c:\\users\\nishi\\anaconda3\\lib\\site-packages (from gradio) (3.7.0)\n",
      "Collecting uvicorn>=0.14.0\n",
      "  Downloading uvicorn-0.22.0-py3-none-any.whl (58 kB)\n",
      "     -------------------------------------- 58.3/58.3 kB 763.6 kB/s eta 0:00:00\n",
      "Collecting gradio-client>=0.2.4\n",
      "  Downloading gradio_client-0.2.5-py3-none-any.whl (288 kB)\n",
      "     ------------------------------------ 288.1/288.1 kB 935.4 kB/s eta 0:00:00\n",
      "Collecting httpx\n",
      "  Downloading httpx-0.24.1-py3-none-any.whl (75 kB)\n",
      "     -------------------------------------- 75.4/75.4 kB 835.1 kB/s eta 0:00:00\n",
      "Collecting pydantic\n",
      "  Downloading pydantic-1.10.8-cp310-cp310-win_amd64.whl (2.1 MB)\n",
      "     ---------------------------------------- 2.1/2.1 MB 1.1 MB/s eta 0:00:00\n",
      "Collecting markdown-it-py[linkify]>=2.0.0\n",
      "  Downloading markdown_it_py-3.0.0-py3-none-any.whl (87 kB)\n",
      "     -------------------------------------- 87.5/87.5 kB 618.3 kB/s eta 0:00:00\n",
      "Collecting pydub\n",
      "  Downloading pydub-0.25.1-py2.py3-none-any.whl (32 kB)\n",
      "Requirement already satisfied: numpy in c:\\users\\nishi\\anaconda3\\lib\\site-packages (from gradio) (1.23.5)\n",
      "Requirement already satisfied: typing-extensions in c:\\users\\nishi\\anaconda3\\lib\\site-packages (from gradio) (4.4.0)\n",
      "Collecting fastapi\n",
      "  Downloading fastapi-0.96.0-py3-none-any.whl (57 kB)\n",
      "     -------------------------------------- 57.1/57.1 kB 996.2 kB/s eta 0:00:00\n",
      "Requirement already satisfied: pandas in c:\\users\\nishi\\anaconda3\\lib\\site-packages (from gradio) (1.5.3)\n",
      "Collecting pygments>=2.12.0\n",
      "  Downloading Pygments-2.15.1-py3-none-any.whl (1.1 MB)\n",
      "     ---------------------------------------- 1.1/1.1 MB 600.8 kB/s eta 0:00:00\n",
      "Requirement already satisfied: jsonschema>=3.0 in c:\\users\\nishi\\anaconda3\\lib\\site-packages (from altair>=4.2.0->gradio) (4.17.3)\n",
      "Requirement already satisfied: toolz in c:\\users\\nishi\\anaconda3\\lib\\site-packages (from altair>=4.2.0->gradio) (0.12.0)\n",
      "Requirement already satisfied: packaging in c:\\users\\nishi\\anaconda3\\lib\\site-packages (from gradio-client>=0.2.4->gradio) (22.0)\n",
      "Requirement already satisfied: fsspec in c:\\users\\nishi\\anaconda3\\lib\\site-packages (from gradio-client>=0.2.4->gradio) (2022.11.0)\n",
      "Requirement already satisfied: filelock in c:\\users\\nishi\\anaconda3\\lib\\site-packages (from huggingface-hub>=0.14.0->gradio) (3.9.0)\n",
      "Requirement already satisfied: tqdm>=4.42.1 in c:\\users\\nishi\\anaconda3\\lib\\site-packages (from huggingface-hub>=0.14.0->gradio) (4.64.1)\n",
      "Collecting mdurl~=0.1\n",
      "  Downloading mdurl-0.1.2-py3-none-any.whl (10.0 kB)\n",
      "Collecting linkify-it-py<3,>=1\n",
      "  Downloading linkify_it_py-2.0.2-py3-none-any.whl (19 kB)\n",
      "Collecting mdit-py-plugins<=0.3.3\n",
      "  Downloading mdit_py_plugins-0.3.2-py3-none-any.whl (50 kB)\n",
      "     -------------------------------------- 50.4/50.4 kB 515.3 kB/s eta 0:00:00\n",
      "  Downloading mdit_py_plugins-0.3.1-py3-none-any.whl (46 kB)\n",
      "     ---------------------------------------- 46.5/46.5 kB 2.4 MB/s eta 0:00:00\n",
      "  Downloading mdit_py_plugins-0.3.0-py3-none-any.whl (43 kB)\n",
      "     -------------------------------------- 43.7/43.7 kB 711.5 kB/s eta 0:00:00\n",
      "  Downloading mdit_py_plugins-0.2.8-py3-none-any.whl (41 kB)\n",
      "     -------------------------------------- 41.0/41.0 kB 992.5 kB/s eta 0:00:00\n",
      "  Downloading mdit_py_plugins-0.2.7-py3-none-any.whl (41 kB)\n",
      "     ---------------------------------------- 41.0/41.0 kB 2.1 MB/s eta 0:00:00\n",
      "  Downloading mdit_py_plugins-0.2.6-py3-none-any.whl (39 kB)\n",
      "  Downloading mdit_py_plugins-0.2.5-py3-none-any.whl (39 kB)\n",
      "  Downloading mdit_py_plugins-0.2.4-py3-none-any.whl (39 kB)\n",
      "  Downloading mdit_py_plugins-0.2.3-py3-none-any.whl (39 kB)\n",
      "  Downloading mdit_py_plugins-0.2.2-py3-none-any.whl (39 kB)\n",
      "  Downloading mdit_py_plugins-0.2.1-py3-none-any.whl (38 kB)\n",
      "  Downloading mdit_py_plugins-0.2.0-py3-none-any.whl (38 kB)\n",
      "  Downloading mdit_py_plugins-0.1.0-py3-none-any.whl (37 kB)\n",
      "INFO: pip is looking at multiple versions of markdown-it-py[linkify] to determine which version is compatible with other requirements. This could take a while.\n",
      "Collecting markdown-it-py[linkify]>=2.0.0\n",
      "  Downloading markdown_it_py-2.2.0-py3-none-any.whl (84 kB)\n",
      "     -------------------------------------- 84.5/84.5 kB 951.6 kB/s eta 0:00:00\n",
      "Requirement already satisfied: pytz>=2020.1 in c:\\users\\nishi\\anaconda3\\lib\\site-packages (from pandas->gradio) (2022.7)\n",
      "Requirement already satisfied: python-dateutil>=2.8.1 in c:\\users\\nishi\\anaconda3\\lib\\site-packages (from pandas->gradio) (2.8.2)\n",
      "Requirement already satisfied: click>=7.0 in c:\\users\\nishi\\anaconda3\\lib\\site-packages (from uvicorn>=0.14.0->gradio) (8.0.4)\n",
      "Collecting h11>=0.8\n",
      "  Downloading h11-0.14.0-py3-none-any.whl (58 kB)\n",
      "     -------------------------------------- 58.3/58.3 kB 384.2 kB/s eta 0:00:00\n",
      "Requirement already satisfied: attrs>=17.3.0 in c:\\users\\nishi\\anaconda3\\lib\\site-packages (from aiohttp->gradio) (22.1.0)\n",
      "Collecting multidict<7.0,>=4.5\n",
      "  Downloading multidict-6.0.4-cp310-cp310-win_amd64.whl (28 kB)\n",
      "Collecting yarl<2.0,>=1.0\n",
      "  Downloading yarl-1.9.2-cp310-cp310-win_amd64.whl (61 kB)\n",
      "     ---------------------------------------- 61.0/61.0 kB 3.2 MB/s eta 0:00:00\n",
      "Collecting async-timeout<5.0,>=4.0.0a3\n",
      "  Downloading async_timeout-4.0.2-py3-none-any.whl (5.8 kB)\n",
      "Collecting aiosignal>=1.1.2\n",
      "  Downloading aiosignal-1.3.1-py3-none-any.whl (7.6 kB)\n",
      "Collecting frozenlist>=1.1.1\n",
      "  Downloading frozenlist-1.3.3-cp310-cp310-win_amd64.whl (33 kB)\n",
      "Requirement already satisfied: charset-normalizer<4.0,>=2.0 in c:\\users\\nishi\\anaconda3\\lib\\site-packages (from aiohttp->gradio) (2.0.4)\n",
      "Collecting starlette<0.28.0,>=0.27.0\n",
      "  Downloading starlette-0.27.0-py3-none-any.whl (66 kB)\n",
      "     -------------------------------------- 67.0/67.0 kB 915.1 kB/s eta 0:00:00\n",
      "Requirement already satisfied: certifi in c:\\users\\nishi\\anaconda3\\lib\\site-packages (from httpx->gradio) (2022.12.7)\n",
      "Requirement already satisfied: sniffio in c:\\users\\nishi\\anaconda3\\lib\\site-packages (from httpx->gradio) (1.2.0)\n",
      "Collecting httpcore<0.18.0,>=0.15.0\n",
      "  Downloading httpcore-0.17.2-py3-none-any.whl (72 kB)\n",
      "     -------------------------------------- 72.5/72.5 kB 988.0 kB/s eta 0:00:00\n",
      "Requirement already satisfied: idna in c:\\users\\nishi\\anaconda3\\lib\\site-packages (from httpx->gradio) (3.4)\n",
      "Requirement already satisfied: pyparsing>=2.3.1 in c:\\users\\nishi\\anaconda3\\lib\\site-packages (from matplotlib->gradio) (3.0.9)\n",
      "Requirement already satisfied: kiwisolver>=1.0.1 in c:\\users\\nishi\\anaconda3\\lib\\site-packages (from matplotlib->gradio) (1.4.4)\n",
      "Requirement already satisfied: contourpy>=1.0.1 in c:\\users\\nishi\\anaconda3\\lib\\site-packages (from matplotlib->gradio) (1.0.5)\n",
      "Requirement already satisfied: fonttools>=4.22.0 in c:\\users\\nishi\\anaconda3\\lib\\site-packages (from matplotlib->gradio) (4.25.0)\n",
      "Requirement already satisfied: cycler>=0.10 in c:\\users\\nishi\\anaconda3\\lib\\site-packages (from matplotlib->gradio) (0.11.0)\n",
      "Requirement already satisfied: urllib3<1.27,>=1.21.1 in c:\\users\\nishi\\anaconda3\\lib\\site-packages (from requests->gradio) (1.26.14)\n",
      "Requirement already satisfied: colorama in c:\\users\\nishi\\anaconda3\\lib\\site-packages (from click>=7.0->uvicorn>=0.14.0->gradio) (0.4.6)\n",
      "Requirement already satisfied: anyio<5.0,>=3.0 in c:\\users\\nishi\\anaconda3\\lib\\site-packages (from httpcore<0.18.0,>=0.15.0->httpx->gradio) (3.5.0)\n",
      "Requirement already satisfied: pyrsistent!=0.17.0,!=0.17.1,!=0.17.2,>=0.14.0 in c:\\users\\nishi\\anaconda3\\lib\\site-packages (from jsonschema>=3.0->altair>=4.2.0->gradio) (0.18.0)\n",
      "Collecting uc-micro-py\n",
      "  Downloading uc_micro_py-1.0.2-py3-none-any.whl (6.2 kB)\n",
      "Requirement already satisfied: six>=1.5 in c:\\users\\nishi\\anaconda3\\lib\\site-packages (from python-dateutil>=2.8.1->pandas->gradio) (1.16.0)\n",
      "Building wheels for collected packages: ffmpy\n",
      "  Building wheel for ffmpy (setup.py): started\n",
      "  Building wheel for ffmpy (setup.py): finished with status 'done'\n",
      "  Created wheel for ffmpy: filename=ffmpy-0.3.0-py3-none-any.whl size=4712 sha256=cde03cf6a818c5ce48c01929df5951ed54f6773a847c5c0492ef6122b1a09721\n",
      "  Stored in directory: c:\\users\\nishi\\appdata\\local\\pip\\cache\\wheels\\fe\\17\\e9\\577da024bc5aede641c69f0675254c1e518db79800abbe135c\n",
      "Successfully built ffmpy\n",
      "Installing collected packages: pydub, ffmpy, websockets, uc-micro-py, semantic-version, python-multipart, pygments, pydantic, orjson, multidict, mdurl, h11, frozenlist, async-timeout, aiofiles, yarl, uvicorn, starlette, markdown-it-py, linkify-it-py, huggingface-hub, httpcore, aiosignal, mdit-py-plugins, httpx, fastapi, altair, aiohttp, gradio-client, gradio\n",
      "  Attempting uninstall: pygments\n",
      "    Found existing installation: Pygments 2.11.2\n",
      "    Uninstalling Pygments-2.11.2:\n",
      "      Successfully uninstalled Pygments-2.11.2\n",
      "  Attempting uninstall: huggingface-hub\n",
      "    Found existing installation: huggingface-hub 0.10.1\n",
      "    Uninstalling huggingface-hub-0.10.1:\n",
      "      Successfully uninstalled huggingface-hub-0.10.1\n",
      "Successfully installed aiofiles-23.1.0 aiohttp-3.8.4 aiosignal-1.3.1 altair-5.0.1 async-timeout-4.0.2 fastapi-0.96.0 ffmpy-0.3.0 frozenlist-1.3.3 gradio-3.33.1 gradio-client-0.2.5 h11-0.14.0 httpcore-0.17.2 httpx-0.24.1 huggingface-hub-0.15.1 linkify-it-py-2.0.2 markdown-it-py-2.2.0 mdit-py-plugins-0.3.3 mdurl-0.1.2 multidict-6.0.4 orjson-3.9.0 pydantic-1.10.8 pydub-0.25.1 pygments-2.15.1 python-multipart-0.0.6 semantic-version-2.10.0 starlette-0.27.0 uc-micro-py-1.0.2 uvicorn-0.22.0 websockets-11.0.3 yarl-1.9.2\n",
      "Note: you may need to restart the kernel to use updated packages.\n"
     ]
    }
   ],
   "source": [
    "pip install gradio"
   ]
  },
  {
   "cell_type": "code",
   "execution_count": 140,
   "id": "61028256",
   "metadata": {},
   "outputs": [],
   "source": [
    "import gradio as gr"
   ]
  },
  {
   "cell_type": "code",
   "execution_count": null,
   "id": "57b1d7ec",
   "metadata": {},
   "outputs": [],
   "source": [
    "# data preprocessing"
   ]
  },
  {
   "cell_type": "code",
   "execution_count": null,
   "id": "87b83996",
   "metadata": {},
   "outputs": [],
   "source": [
    "# training image processing"
   ]
  },
  {
   "cell_type": "code",
   "execution_count": 103,
   "id": "1db0324d",
   "metadata": {},
   "outputs": [
    {
     "name": "stdout",
     "output_type": "stream",
     "text": [
      "Collecting split-folders\n",
      "  Downloading split_folders-0.5.1-py3-none-any.whl (8.4 kB)\n",
      "Installing collected packages: split-folders\n",
      "Successfully installed split-folders-0.5.1\n",
      "Note: you may need to restart the kernel to use updated packages.\n"
     ]
    }
   ],
   "source": [
    "pip install split-folders"
   ]
  },
  {
   "cell_type": "code",
   "execution_count": 104,
   "id": "1028aae9",
   "metadata": {},
   "outputs": [],
   "source": [
    "import splitfolders"
   ]
  },
  {
   "cell_type": "code",
   "execution_count": 105,
   "id": "eaa4f83c",
   "metadata": {},
   "outputs": [],
   "source": [
    "input_folders='plant'"
   ]
  },
  {
   "cell_type": "code",
   "execution_count": 106,
   "id": "9c67803a",
   "metadata": {},
   "outputs": [
    {
     "name": "stderr",
     "output_type": "stream",
     "text": [
      "Copying files: 1835 files [00:31, 58.98 files/s]\n"
     ]
    }
   ],
   "source": [
    "splitfolders.ratio(input_folders,output='plants',seed=42,ratio=(.7,.2,.1),\n",
    "                  group_prefix=None)"
   ]
  },
  {
   "cell_type": "code",
   "execution_count": 107,
   "id": "b958dc01",
   "metadata": {},
   "outputs": [
    {
     "name": "stdout",
     "output_type": "stream",
     "text": [
      "Found 1273 images belonging to 30 classes.\n"
     ]
    }
   ],
   "source": [
    "train_datagen = ImageDataGenerator(\n",
    "        rescale=1./255,\n",
    "        shear_range=0.2,\n",
    "        zoom_range=0.2,\n",
    "        horizontal_flip=True)\n",
    "training_set = train_datagen.flow_from_directory(\n",
    "        'plants/train',\n",
    "        target_size=(128, 128),\n",
    "        batch_size=32,\n",
    "        class_mode='categorical')"
   ]
  },
  {
   "cell_type": "code",
   "execution_count": null,
   "id": "ad11df98",
   "metadata": {},
   "outputs": [],
   "source": [
    "# test image processing"
   ]
  },
  {
   "cell_type": "code",
   "execution_count": 122,
   "id": "4643046d",
   "metadata": {},
   "outputs": [
    {
     "name": "stdout",
     "output_type": "stream",
     "text": [
      "Found 206 images belonging to 30 classes.\n"
     ]
    }
   ],
   "source": [
    "test_datagen = ImageDataGenerator(rescale=1./255)\n",
    "test_set = test_datagen.flow_from_directory(\n",
    "        'plants/test',\n",
    "        target_size=(128, 128),\n",
    "        batch_size=32,\n",
    "        class_mode='categorical')"
   ]
  },
  {
   "cell_type": "code",
   "execution_count": null,
   "id": "b1b95733",
   "metadata": {},
   "outputs": [],
   "source": [
    "# building model"
   ]
  },
  {
   "cell_type": "code",
   "execution_count": 123,
   "id": "f1aa35aa",
   "metadata": {},
   "outputs": [],
   "source": [
    "cnn = tf.keras.models.Sequential()"
   ]
  },
  {
   "cell_type": "code",
   "execution_count": null,
   "id": "216afc8c",
   "metadata": {},
   "outputs": [],
   "source": [
    "# building convolution layer"
   ]
  },
  {
   "cell_type": "code",
   "execution_count": 124,
   "id": "d814d760",
   "metadata": {},
   "outputs": [],
   "source": [
    "cnn.add(tf.keras.layers.Conv2D(filters=64 , kernel_size=3 , activation='relu' , input_shape=[128,128,3]))\n",
    "cnn.add(tf.keras.layers.MaxPool2D(pool_size=2,strides=2))\n"
   ]
  },
  {
   "cell_type": "code",
   "execution_count": 125,
   "id": "ca7bdd90",
   "metadata": {},
   "outputs": [],
   "source": [
    "cnn.add(tf.keras.layers.Conv2D(filters=64 , kernel_size=3 , activation='relu' ))\n",
    "cnn.add(tf.keras.layers.MaxPool2D(pool_size=2 , strides=2))"
   ]
  },
  {
   "cell_type": "code",
   "execution_count": 126,
   "id": "6318b1e8",
   "metadata": {},
   "outputs": [],
   "source": [
    "cnn.add(tf.keras.layers.Conv2D(filters=64 , kernel_size=3 , activation='relu' ))\n",
    "cnn.add(tf.keras.layers.MaxPool2D(pool_size=2 , strides=2))"
   ]
  },
  {
   "cell_type": "code",
   "execution_count": 127,
   "id": "1df97bbd",
   "metadata": {},
   "outputs": [],
   "source": [
    "cnn.add(tf.keras.layers.Conv2D(filters=64 , kernel_size=3 , activation='relu' ))\n",
    "cnn.add(tf.keras.layers.MaxPool2D(pool_size=2 , strides=2))"
   ]
  },
  {
   "cell_type": "code",
   "execution_count": 128,
   "id": "6fc477ea",
   "metadata": {},
   "outputs": [],
   "source": [
    "cnn.add(tf.keras.layers.Dropout(0.5))\n"
   ]
  },
  {
   "cell_type": "code",
   "execution_count": 129,
   "id": "a0f468f7",
   "metadata": {},
   "outputs": [],
   "source": [
    "cnn.add(tf.keras.layers.Flatten())"
   ]
  },
  {
   "cell_type": "code",
   "execution_count": 130,
   "id": "63bcda1c",
   "metadata": {},
   "outputs": [],
   "source": [
    "cnn.add(tf.keras.layers.Dense(units=128, activation='relu'))"
   ]
  },
  {
   "cell_type": "code",
   "execution_count": 131,
   "id": "6d2ea8ca",
   "metadata": {},
   "outputs": [],
   "source": [
    "cnn.add(tf.keras.layers.Dense(units=30 , activation='softmax'))"
   ]
  },
  {
   "cell_type": "code",
   "execution_count": 132,
   "id": "64f39690",
   "metadata": {},
   "outputs": [],
   "source": [
    "cnn.compile(optimizer = 'rmsprop' , loss = 'categorical_crossentropy' , metrics = ['accuracy'])"
   ]
  },
  {
   "cell_type": "code",
   "execution_count": 133,
   "id": "d43bab01",
   "metadata": {},
   "outputs": [
    {
     "name": "stdout",
     "output_type": "stream",
     "text": [
      "Epoch 1/30\n",
      "40/40 [==============================] - 113s 3s/step - loss: 3.3648 - accuracy: 0.0715 - val_loss: 3.1749 - val_accuracy: 0.1359\n",
      "Epoch 2/30\n",
      "40/40 [==============================] - 123s 3s/step - loss: 2.9322 - accuracy: 0.1563 - val_loss: 2.3083 - val_accuracy: 0.3155\n",
      "Epoch 3/30\n",
      "40/40 [==============================] - 118s 3s/step - loss: 2.3471 - accuracy: 0.2962 - val_loss: 1.9705 - val_accuracy: 0.4612\n",
      "Epoch 4/30\n",
      "40/40 [==============================] - 117s 3s/step - loss: 2.0875 - accuracy: 0.3786 - val_loss: 1.7074 - val_accuracy: 0.4709\n",
      "Epoch 5/30\n",
      "40/40 [==============================] - 120s 3s/step - loss: 1.8299 - accuracy: 0.4517 - val_loss: 1.4306 - val_accuracy: 0.5777\n",
      "Epoch 6/30\n",
      "40/40 [==============================] - 114s 3s/step - loss: 1.6668 - accuracy: 0.4800 - val_loss: 1.4166 - val_accuracy: 0.5583\n",
      "Epoch 7/30\n",
      "40/40 [==============================] - 116s 3s/step - loss: 1.5919 - accuracy: 0.5200 - val_loss: 1.4952 - val_accuracy: 0.5194\n",
      "Epoch 8/30\n",
      "40/40 [==============================] - 118s 3s/step - loss: 1.4682 - accuracy: 0.5452 - val_loss: 1.7277 - val_accuracy: 0.5485\n",
      "Epoch 9/30\n",
      "40/40 [==============================] - 125s 3s/step - loss: 1.3125 - accuracy: 0.5931 - val_loss: 0.9617 - val_accuracy: 0.6990\n",
      "Epoch 10/30\n",
      "40/40 [==============================] - 117s 3s/step - loss: 1.2759 - accuracy: 0.6064 - val_loss: 0.9563 - val_accuracy: 0.7087\n",
      "Epoch 11/30\n",
      "40/40 [==============================] - 119s 3s/step - loss: 1.2129 - accuracy: 0.6269 - val_loss: 1.0870 - val_accuracy: 0.7136\n",
      "Epoch 12/30\n",
      "40/40 [==============================] - 117s 3s/step - loss: 1.0766 - accuracy: 0.6669 - val_loss: 1.1580 - val_accuracy: 0.6456\n",
      "Epoch 13/30\n",
      "40/40 [==============================] - 117s 3s/step - loss: 1.0190 - accuracy: 0.6834 - val_loss: 1.8490 - val_accuracy: 0.5097\n",
      "Epoch 14/30\n",
      "40/40 [==============================] - 124s 3s/step - loss: 1.0004 - accuracy: 0.6944 - val_loss: 0.8805 - val_accuracy: 0.7379\n",
      "Epoch 15/30\n",
      "40/40 [==============================] - 120s 3s/step - loss: 0.8623 - accuracy: 0.7368 - val_loss: 0.8635 - val_accuracy: 0.7476\n",
      "Epoch 16/30\n",
      "40/40 [==============================] - 127s 3s/step - loss: 0.8890 - accuracy: 0.7188 - val_loss: 0.8156 - val_accuracy: 0.7573\n",
      "Epoch 17/30\n",
      "40/40 [==============================] - 116s 3s/step - loss: 0.7952 - accuracy: 0.7478 - val_loss: 0.8361 - val_accuracy: 0.7379\n",
      "Epoch 18/30\n",
      "40/40 [==============================] - 111s 3s/step - loss: 0.7620 - accuracy: 0.7659 - val_loss: 1.0411 - val_accuracy: 0.7039\n",
      "Epoch 19/30\n",
      "40/40 [==============================] - 118s 3s/step - loss: 0.7270 - accuracy: 0.7620 - val_loss: 0.6836 - val_accuracy: 0.7767\n",
      "Epoch 20/30\n",
      "40/40 [==============================] - 114s 3s/step - loss: 0.7564 - accuracy: 0.7596 - val_loss: 0.8676 - val_accuracy: 0.7379\n",
      "Epoch 21/30\n",
      "40/40 [==============================] - 66s 2s/step - loss: 0.6647 - accuracy: 0.7887 - val_loss: 0.7445 - val_accuracy: 0.7670\n",
      "Epoch 22/30\n",
      "40/40 [==============================] - 51s 1s/step - loss: 0.5894 - accuracy: 0.8162 - val_loss: 1.0105 - val_accuracy: 0.7621\n",
      "Epoch 23/30\n",
      "40/40 [==============================] - 46s 1s/step - loss: 0.5636 - accuracy: 0.8201 - val_loss: 0.7183 - val_accuracy: 0.7913\n",
      "Epoch 24/30\n",
      "40/40 [==============================] - 45s 1s/step - loss: 0.5880 - accuracy: 0.8068 - val_loss: 0.7274 - val_accuracy: 0.7670\n",
      "Epoch 25/30\n",
      "40/40 [==============================] - 46s 1s/step - loss: 0.5413 - accuracy: 0.8319 - val_loss: 0.5281 - val_accuracy: 0.8398\n",
      "Epoch 26/30\n",
      "40/40 [==============================] - 48s 1s/step - loss: 0.5026 - accuracy: 0.8500 - val_loss: 0.4961 - val_accuracy: 0.8447\n",
      "Epoch 27/30\n",
      "40/40 [==============================] - 47s 1s/step - loss: 0.5047 - accuracy: 0.8397 - val_loss: 0.6296 - val_accuracy: 0.8398\n",
      "Epoch 28/30\n",
      "40/40 [==============================] - 46s 1s/step - loss: 0.4712 - accuracy: 0.8515 - val_loss: 0.7347 - val_accuracy: 0.7816\n",
      "Epoch 29/30\n",
      "40/40 [==============================] - 47s 1s/step - loss: 0.4638 - accuracy: 0.8460 - val_loss: 1.1765 - val_accuracy: 0.6650\n",
      "Epoch 30/30\n",
      "40/40 [==============================] - 46s 1s/step - loss: 0.4408 - accuracy: 0.8586 - val_loss: 0.6144 - val_accuracy: 0.8495\n"
     ]
    },
    {
     "data": {
      "text/plain": [
       "<keras.callbacks.History at 0x2108ed13eb0>"
      ]
     },
     "execution_count": 133,
     "metadata": {},
     "output_type": "execute_result"
    }
   ],
   "source": [
    "cnn.fit(x = training_set , validation_data = test_set , epochs = 30)"
   ]
  },
  {
   "cell_type": "code",
   "execution_count": null,
   "id": "511b3a05",
   "metadata": {},
   "outputs": [],
   "source": [
    "# prepocess new image"
   ]
  },
  {
   "cell_type": "code",
   "execution_count": null,
   "id": "639a5f47",
   "metadata": {},
   "outputs": [],
   "source": [
    "import tensorflow as tf\n",
    "test_image = tf.keras.utils.load_img('plants/val/Alpinia Galanga (Rasna)/AG-S-003.jpg',target_size=(128,128))\n",
    "test_image = tf.keras.utils.img_to_array(test_image)\n",
    "test_image = np.expand_dims(test_image,axis=0)\n",
    "result = cnn.predict(test_image)\n",
    "training_set.class_indices"
   ]
  },
  {
   "cell_type": "code",
   "execution_count": null,
   "id": "123baf67",
   "metadata": {},
   "outputs": [],
   "source": [
    "print(result)"
   ]
  },
  {
   "cell_type": "code",
   "execution_count": null,
   "id": "93720920",
   "metadata": {},
   "outputs": [],
   "source": [
    "if result[0][0]==1:\n",
    "    print('Rasna')\n",
    "elif result[0][1]==1:\n",
    "    print('Arive-Dantu')\n",
    "elif result[0][2]==1:\n",
    "    print('Jackfruit')\n",
    "elif result[0][3]==1:\n",
    "    print('Neem')\n",
    "elif result[0][4]==1:\n",
    "    print('Basale')\n",
    "elif result[0][5]==1:\n",
    "    print('Indian Mustard')\n",
    "elif result[0][6]==1:\n",
    "    print('Karanda')\n",
    "elif result[0][7]==1:\n",
    "    print('Lemon')\n",
    "elif result[0][8]==1:\n",
    "    print('Roxburgh fig')\n",
    "elif result[0][9]==1:\n",
    "    print('Peepal Tree')\n",
    "elif result[0][10]==1:\n",
    "    print('Hibiscus Rosa-sinensis')\n",
    "elif result[0][11]==1:\n",
    "    print('Jasmine')\n",
    "elif result[0][12]==1:\n",
    "    print('Mango')\n",
    "elif result[0][13]==1:\n",
    "    print('Mint')\n",
    "elif result[0][14]==1:\n",
    "    print('Drumstick')\n",
    "elif result[0][15]==1:\n",
    "    print('Jamaica Cherry-Gasagase')\n",
    "elif result[0][16]==1:\n",
    "    print('Curry')\n",
    "elif result[0][17]==1:\n",
    "    print('Oleander')\n",
    "elif result[0][18]==1:\n",
    "    print('Parijata')\n",
    "elif result[0][19]==1:\n",
    "    print('Tulsi')\n",
    "elif result[0][20]==1:\n",
    "    print('Betel')\n",
    "elif result[0][21]==1:\n",
    "     print('Mexican Mint')\n",
    "elif result[0][22]==1:\n",
    "    print('Indian Beech')\n",
    "elif result[0][23]==1:\n",
    "    print('Guava')\n",
    "elif result[0][24]==1:\n",
    "    print('Pomegranate')\n",
    "elif result[0][25]==1:\n",
    "    print('Sandalwood')\n",
    "elif result[0][26]==1:\n",
    "    print('Jamun')\n",
    "elif result[0][27]==1:\n",
    "    print('Rose Apple')\n",
    "elif result[0][28]==1:\n",
    "    print('Crape Jasmine')\n",
    "elif result[0][29]==1:\n",
    "    print('Fenugreek')"
   ]
  },
  {
   "cell_type": "code",
   "execution_count": null,
   "id": "c52b34bb",
   "metadata": {},
   "outputs": [],
   "source": [
    "def predict_image(img):\n",
    "  img_4d=img.reshape(-1,128,128,3)\n",
    "  prediction=cnn.predict(img_4d)[0]\n",
    "  return {class_names[i]: float(prediction[i]) for i in range(30)}"
   ]
  },
  {
   "cell_type": "code",
   "execution_count": null,
   "id": "dfc051ff",
   "metadata": {},
   "outputs": [],
   "source": [
    "image = gr.inputs.Image(shape=(128,128))\n",
    "label = gr.outputs.Label(num_top_classes=30)\n",
    "\n",
    "gr.Interface(fn=predict_image, inputs=image, outputs=label,interpretation='default').launch(debug='True')\n"
   ]
  },
  {
   "cell_type": "code",
   "execution_count": null,
   "id": "0f9624f1",
   "metadata": {},
   "outputs": [],
   "source": []
  }
 ],
 "metadata": {
  "kernelspec": {
   "display_name": "Python 3 (ipykernel)",
   "language": "python",
   "name": "python3"
  },
  "language_info": {
   "codemirror_mode": {
    "name": "ipython",
    "version": 3
   },
   "file_extension": ".py",
   "mimetype": "text/x-python",
   "name": "python",
   "nbconvert_exporter": "python",
   "pygments_lexer": "ipython3",
   "version": "3.10.9"
  }
 },
 "nbformat": 4,
 "nbformat_minor": 5
}
