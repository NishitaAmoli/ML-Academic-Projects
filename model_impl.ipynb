{
 "cells": [
  {
   "cell_type": "code",
   "execution_count": 1,
   "id": "5a45ddc9",
   "metadata": {},
   "outputs": [],
   "source": [
    "#importing libraries\n",
    "import numpy as np\n",
    "import tensorflow as tf\n",
    "from keras.preprocessing.image import ImageDataGenerator"
   ]
  },
  {
   "cell_type": "code",
   "execution_count": 2,
   "id": "d41d9ebc",
   "metadata": {},
   "outputs": [
    {
     "name": "stdout",
     "output_type": "stream",
     "text": [
      "Requirement already satisfied: gradio in c:\\users\\nishi\\anaconda3\\lib\\site-packages (3.33.1)\n",
      "Requirement already satisfied: pygments>=2.12.0 in c:\\users\\nishi\\anaconda3\\lib\\site-packages (from gradio) (2.15.1)\n",
      "Requirement already satisfied: orjson in c:\\users\\nishi\\anaconda3\\lib\\site-packages (from gradio) (3.9.0)\n",
      "Requirement already satisfied: markdown-it-py[linkify]>=2.0.0 in c:\\users\\nishi\\anaconda3\\lib\\site-packages (from gradio) (2.2.0)\n",
      "Requirement already satisfied: mdit-py-plugins<=0.3.3 in c:\\users\\nishi\\anaconda3\\lib\\site-packages (from gradio) (0.3.3)\n",
      "Requirement already satisfied: numpy in c:\\users\\nishi\\anaconda3\\lib\\site-packages (from gradio) (1.23.5)\n",
      "Requirement already satisfied: jinja2 in c:\\users\\nishi\\anaconda3\\lib\\site-packages (from gradio) (3.1.2)\n",
      "Requirement already satisfied: uvicorn>=0.14.0 in c:\\users\\nishi\\anaconda3\\lib\\site-packages (from gradio) (0.22.0)\n",
      "Requirement already satisfied: pandas in c:\\users\\nishi\\anaconda3\\lib\\site-packages (from gradio) (1.5.3)\n",
      "Requirement already satisfied: aiohttp in c:\\users\\nishi\\anaconda3\\lib\\site-packages (from gradio) (3.8.4)\n",
      "Requirement already satisfied: gradio-client>=0.2.4 in c:\\users\\nishi\\anaconda3\\lib\\site-packages (from gradio) (0.2.5)\n",
      "Requirement already satisfied: huggingface-hub>=0.14.0 in c:\\users\\nishi\\anaconda3\\lib\\site-packages (from gradio) (0.15.1)\n",
      "Requirement already satisfied: fastapi in c:\\users\\nishi\\anaconda3\\lib\\site-packages (from gradio) (0.96.0)\n",
      "Requirement already satisfied: pydantic in c:\\users\\nishi\\anaconda3\\lib\\site-packages (from gradio) (1.10.8)\n",
      "Requirement already satisfied: requests in c:\\users\\nishi\\anaconda3\\lib\\site-packages (from gradio) (2.28.1)\n",
      "Requirement already satisfied: matplotlib in c:\\users\\nishi\\anaconda3\\lib\\site-packages (from gradio) (3.7.0)\n",
      "Requirement already satisfied: websockets>=10.0 in c:\\users\\nishi\\anaconda3\\lib\\site-packages (from gradio) (11.0.3)\n",
      "Requirement already satisfied: typing-extensions in c:\\users\\nishi\\anaconda3\\lib\\site-packages (from gradio) (4.4.0)\n",
      "Requirement already satisfied: pyyaml in c:\\users\\nishi\\anaconda3\\lib\\site-packages (from gradio) (6.0)\n",
      "Requirement already satisfied: aiofiles in c:\\users\\nishi\\anaconda3\\lib\\site-packages (from gradio) (23.1.0)\n",
      "Requirement already satisfied: httpx in c:\\users\\nishi\\anaconda3\\lib\\site-packages (from gradio) (0.24.1)\n",
      "Requirement already satisfied: semantic-version in c:\\users\\nishi\\anaconda3\\lib\\site-packages (from gradio) (2.10.0)\n",
      "Requirement already satisfied: pillow in c:\\users\\nishi\\anaconda3\\lib\\site-packages (from gradio) (9.4.0)\n",
      "Requirement already satisfied: python-multipart in c:\\users\\nishi\\anaconda3\\lib\\site-packages (from gradio) (0.0.6)\n",
      "Requirement already satisfied: pydub in c:\\users\\nishi\\anaconda3\\lib\\site-packages (from gradio) (0.25.1)\n",
      "Requirement already satisfied: altair>=4.2.0 in c:\\users\\nishi\\anaconda3\\lib\\site-packages (from gradio) (5.0.1)\n",
      "Requirement already satisfied: markupsafe in c:\\users\\nishi\\anaconda3\\lib\\site-packages (from gradio) (2.1.1)\n",
      "Requirement already satisfied: ffmpy in c:\\users\\nishi\\anaconda3\\lib\\site-packages (from gradio) (0.3.0)\n",
      "Requirement already satisfied: jsonschema>=3.0 in c:\\users\\nishi\\anaconda3\\lib\\site-packages (from altair>=4.2.0->gradio) (4.17.3)\n",
      "Requirement already satisfied: toolz in c:\\users\\nishi\\anaconda3\\lib\\site-packages (from altair>=4.2.0->gradio) (0.12.0)\n",
      "Requirement already satisfied: fsspec in c:\\users\\nishi\\anaconda3\\lib\\site-packages (from gradio-client>=0.2.4->gradio) (2022.11.0)\n",
      "Requirement already satisfied: packaging in c:\\users\\nishi\\anaconda3\\lib\\site-packages (from gradio-client>=0.2.4->gradio) (22.0)\n",
      "Requirement already satisfied: tqdm>=4.42.1 in c:\\users\\nishi\\anaconda3\\lib\\site-packages (from huggingface-hub>=0.14.0->gradio) (4.64.1)\n",
      "Requirement already satisfied: filelock in c:\\users\\nishi\\anaconda3\\lib\\site-packages (from huggingface-hub>=0.14.0->gradio) (3.9.0)\n",
      "Requirement already satisfied: mdurl~=0.1 in c:\\users\\nishi\\anaconda3\\lib\\site-packages (from markdown-it-py[linkify]>=2.0.0->gradio) (0.1.2)\n",
      "Requirement already satisfied: linkify-it-py<3,>=1 in c:\\users\\nishi\\anaconda3\\lib\\site-packages (from markdown-it-py[linkify]>=2.0.0->gradio) (2.0.2)\n",
      "Requirement already satisfied: pytz>=2020.1 in c:\\users\\nishi\\anaconda3\\lib\\site-packages (from pandas->gradio) (2022.7)\n",
      "Requirement already satisfied: python-dateutil>=2.8.1 in c:\\users\\nishi\\anaconda3\\lib\\site-packages (from pandas->gradio) (2.8.2)\n",
      "Requirement already satisfied: click>=7.0 in c:\\users\\nishi\\anaconda3\\lib\\site-packages (from uvicorn>=0.14.0->gradio) (8.0.4)\n",
      "Requirement already satisfied: h11>=0.8 in c:\\users\\nishi\\anaconda3\\lib\\site-packages (from uvicorn>=0.14.0->gradio) (0.14.0)\n",
      "Requirement already satisfied: charset-normalizer<4.0,>=2.0 in c:\\users\\nishi\\anaconda3\\lib\\site-packages (from aiohttp->gradio) (2.0.4)\n",
      "Requirement already satisfied: attrs>=17.3.0 in c:\\users\\nishi\\anaconda3\\lib\\site-packages (from aiohttp->gradio) (22.1.0)\n",
      "Requirement already satisfied: async-timeout<5.0,>=4.0.0a3 in c:\\users\\nishi\\anaconda3\\lib\\site-packages (from aiohttp->gradio) (4.0.2)\n",
      "Requirement already satisfied: aiosignal>=1.1.2 in c:\\users\\nishi\\anaconda3\\lib\\site-packages (from aiohttp->gradio) (1.3.1)\n",
      "Requirement already satisfied: frozenlist>=1.1.1 in c:\\users\\nishi\\anaconda3\\lib\\site-packages (from aiohttp->gradio) (1.3.3)\n",
      "Requirement already satisfied: multidict<7.0,>=4.5 in c:\\users\\nishi\\anaconda3\\lib\\site-packages (from aiohttp->gradio) (6.0.4)\n",
      "Requirement already satisfied: yarl<2.0,>=1.0 in c:\\users\\nishi\\anaconda3\\lib\\site-packages (from aiohttp->gradio) (1.9.2)\n",
      "Requirement already satisfied: starlette<0.28.0,>=0.27.0 in c:\\users\\nishi\\anaconda3\\lib\\site-packages (from fastapi->gradio) (0.27.0)\n",
      "Requirement already satisfied: certifi in c:\\users\\nishi\\anaconda3\\lib\\site-packages (from httpx->gradio) (2022.12.7)\n",
      "Requirement already satisfied: idna in c:\\users\\nishi\\anaconda3\\lib\\site-packages (from httpx->gradio) (3.4)\n",
      "Requirement already satisfied: sniffio in c:\\users\\nishi\\anaconda3\\lib\\site-packages (from httpx->gradio) (1.2.0)\n",
      "Requirement already satisfied: httpcore<0.18.0,>=0.15.0 in c:\\users\\nishi\\anaconda3\\lib\\site-packages (from httpx->gradio) (0.17.2)\n",
      "Requirement already satisfied: cycler>=0.10 in c:\\users\\nishi\\anaconda3\\lib\\site-packages (from matplotlib->gradio) (0.11.0)\n",
      "Requirement already satisfied: contourpy>=1.0.1 in c:\\users\\nishi\\anaconda3\\lib\\site-packages (from matplotlib->gradio) (1.0.5)\n",
      "Requirement already satisfied: pyparsing>=2.3.1 in c:\\users\\nishi\\anaconda3\\lib\\site-packages (from matplotlib->gradio) (3.0.9)\n",
      "Requirement already satisfied: fonttools>=4.22.0 in c:\\users\\nishi\\anaconda3\\lib\\site-packages (from matplotlib->gradio) (4.25.0)\n",
      "Requirement already satisfied: kiwisolver>=1.0.1 in c:\\users\\nishi\\anaconda3\\lib\\site-packages (from matplotlib->gradio) (1.4.4)\n",
      "Requirement already satisfied: urllib3<1.27,>=1.21.1 in c:\\users\\nishi\\anaconda3\\lib\\site-packages (from requests->gradio) (1.26.14)\n",
      "Requirement already satisfied: colorama in c:\\users\\nishi\\anaconda3\\lib\\site-packages (from click>=7.0->uvicorn>=0.14.0->gradio) (0.4.6)\n",
      "Requirement already satisfied: anyio<5.0,>=3.0 in c:\\users\\nishi\\anaconda3\\lib\\site-packages (from httpcore<0.18.0,>=0.15.0->httpx->gradio) (3.5.0)\n",
      "Requirement already satisfied: pyrsistent!=0.17.0,!=0.17.1,!=0.17.2,>=0.14.0 in c:\\users\\nishi\\anaconda3\\lib\\site-packages (from jsonschema>=3.0->altair>=4.2.0->gradio) (0.18.0)\n",
      "Requirement already satisfied: uc-micro-py in c:\\users\\nishi\\anaconda3\\lib\\site-packages (from linkify-it-py<3,>=1->markdown-it-py[linkify]>=2.0.0->gradio) (1.0.2)\n",
      "Requirement already satisfied: six>=1.5 in c:\\users\\nishi\\anaconda3\\lib\\site-packages (from python-dateutil>=2.8.1->pandas->gradio) (1.16.0)\n"
     ]
    }
   ],
   "source": [
    "!pip install gradio"
   ]
  },
  {
   "cell_type": "code",
   "execution_count": 3,
   "id": "61028256",
   "metadata": {},
   "outputs": [],
   "source": [
    "import gradio as gr\n",
    "import gradio.components"
   ]
  },
  {
   "cell_type": "code",
   "execution_count": 4,
   "id": "d75c3a4a",
   "metadata": {},
   "outputs": [],
   "source": [
    "import requests"
   ]
  },
  {
   "cell_type": "code",
   "execution_count": 5,
   "id": "57b1d7ec",
   "metadata": {},
   "outputs": [],
   "source": [
    "# data preprocessing"
   ]
  },
  {
   "cell_type": "code",
   "execution_count": 6,
   "id": "87b83996",
   "metadata": {},
   "outputs": [],
   "source": [
    "# training image processing"
   ]
  },
  {
   "cell_type": "code",
   "execution_count": 7,
   "id": "1db0324d",
   "metadata": {},
   "outputs": [
    {
     "name": "stdout",
     "output_type": "stream",
     "text": [
      "Requirement already satisfied: split-folders in c:\\users\\nishi\\anaconda3\\lib\\site-packages (0.5.1)\n",
      "Note: you may need to restart the kernel to use updated packages.\n"
     ]
    }
   ],
   "source": [
    "pip install split-folders"
   ]
  },
  {
   "cell_type": "code",
   "execution_count": 8,
   "id": "1028aae9",
   "metadata": {},
   "outputs": [],
   "source": [
    "import splitfolders"
   ]
  },
  {
   "cell_type": "code",
   "execution_count": 9,
   "id": "eaa4f83c",
   "metadata": {},
   "outputs": [],
   "source": [
    "input_folders='plant'"
   ]
  },
  {
   "cell_type": "code",
   "execution_count": 10,
   "id": "9c67803a",
   "metadata": {},
   "outputs": [
    {
     "name": "stderr",
     "output_type": "stream",
     "text": [
      "Copying files: 1835 files [00:31, 57.58 files/s]\n"
     ]
    }
   ],
   "source": [
    "splitfolders.ratio(input_folders,output='plants',seed=1337,ratio=(.7,.2,.1),\n",
    "                  group_prefix=None)"
   ]
  },
  {
   "cell_type": "code",
   "execution_count": 13,
   "id": "b958dc01",
   "metadata": {},
   "outputs": [
    {
     "name": "stdout",
     "output_type": "stream",
     "text": [
      "Found 1690 files belonging to 30 classes.\n",
      "Using 1352 files for training.\n"
     ]
    }
   ],
   "source": [
    "img_height,img_width=128,128\n",
    "batch_size=30\n",
    "training_set = tf.keras.preprocessing.image_dataset_from_directory(\n",
    "        'plants/train',\n",
    "        validation_split=0.2,\n",
    "       subset=\"training\",\n",
    "       seed=123,\n",
    "       image_size=(img_height, img_width),\n",
    "       batch_size=batch_size)"
   ]
  },
  {
   "cell_type": "code",
   "execution_count": null,
   "id": "ad11df98",
   "metadata": {},
   "outputs": [],
   "source": [
    "# test image processing"
   ]
  },
  {
   "cell_type": "code",
   "execution_count": 14,
   "id": "4643046d",
   "metadata": {},
   "outputs": [
    {
     "name": "stdout",
     "output_type": "stream",
     "text": [
      "Found 409 files belonging to 30 classes.\n",
      "Using 81 files for validation.\n"
     ]
    }
   ],
   "source": [
    "test_set = tf.keras.preprocessing.image_dataset_from_directory(\n",
    "        'plants/test',\n",
    "        validation_split=0.2,\n",
    "       subset=\"validation\",\n",
    "       seed=123,\n",
    "      image_size=(img_height, img_width),\n",
    "     batch_size=batch_size)"
   ]
  },
  {
   "cell_type": "code",
   "execution_count": 15,
   "id": "b1b95733",
   "metadata": {},
   "outputs": [],
   "source": [
    "# building model"
   ]
  },
  {
   "cell_type": "code",
   "execution_count": 16,
   "id": "f1aa35aa",
   "metadata": {},
   "outputs": [],
   "source": [
    "cnn = tf.keras.models.Sequential()"
   ]
  },
  {
   "cell_type": "code",
   "execution_count": 17,
   "id": "216afc8c",
   "metadata": {},
   "outputs": [],
   "source": [
    "# building convolution layer"
   ]
  },
  {
   "cell_type": "code",
   "execution_count": 18,
   "id": "d814d760",
   "metadata": {},
   "outputs": [],
   "source": [
    "cnn.add(tf.keras.layers.Conv2D(filters=64 , kernel_size=3 , activation='relu' , input_shape=[128,128,3]))\n",
    "cnn.add(tf.keras.layers.MaxPool2D(pool_size=2,strides=2))\n"
   ]
  },
  {
   "cell_type": "code",
   "execution_count": 19,
   "id": "ca7bdd90",
   "metadata": {},
   "outputs": [],
   "source": [
    "cnn.add(tf.keras.layers.Conv2D(filters=64 , kernel_size=3 , activation='relu' ))\n",
    "cnn.add(tf.keras.layers.MaxPool2D(pool_size=2 , strides=2))"
   ]
  },
  {
   "cell_type": "code",
   "execution_count": 20,
   "id": "6318b1e8",
   "metadata": {},
   "outputs": [],
   "source": [
    "cnn.add(tf.keras.layers.Conv2D(filters=64 , kernel_size=3 , activation='relu' ))\n",
    "cnn.add(tf.keras.layers.MaxPool2D(pool_size=2 , strides=2))"
   ]
  },
  {
   "cell_type": "code",
   "execution_count": 21,
   "id": "1df97bbd",
   "metadata": {},
   "outputs": [],
   "source": [
    "cnn.add(tf.keras.layers.Conv2D(filters=64 , kernel_size=3 , activation='relu' ))\n",
    "cnn.add(tf.keras.layers.MaxPool2D(pool_size=2 , strides=2))"
   ]
  },
  {
   "cell_type": "code",
   "execution_count": 22,
   "id": "c50144a0",
   "metadata": {},
   "outputs": [],
   "source": [
    "cnn.add(tf.keras.layers.Conv2D(filters=128 , kernel_size=3 , activation='relu' ))\n",
    "cnn.add(tf.keras.layers.MaxPool2D(pool_size=2 , strides=2))"
   ]
  },
  {
   "cell_type": "code",
   "execution_count": 23,
   "id": "a0f468f7",
   "metadata": {},
   "outputs": [],
   "source": [
    "cnn.add(tf.keras.layers.Flatten())"
   ]
  },
  {
   "cell_type": "code",
   "execution_count": 24,
   "id": "63bcda1c",
   "metadata": {},
   "outputs": [],
   "source": [
    "cnn.add(tf.keras.layers.Dense(units=128, activation='relu'))"
   ]
  },
  {
   "cell_type": "code",
   "execution_count": 25,
   "id": "6d2ea8ca",
   "metadata": {},
   "outputs": [],
   "source": [
    "cnn.add(tf.keras.layers.Dense(units=30 , activation='softmax'))"
   ]
  },
  {
   "cell_type": "code",
   "execution_count": 26,
   "id": "64f39690",
   "metadata": {},
   "outputs": [],
   "source": [
    "cnn.compile(optimizer = 'rmsprop' , loss = tf.keras.losses.SparseCategoricalCrossentropy(from_logits=True) , metrics = ['accuracy'])"
   ]
  },
  {
   "cell_type": "code",
   "execution_count": 27,
   "id": "d43bab01",
   "metadata": {},
   "outputs": [
    {
     "name": "stdout",
     "output_type": "stream",
     "text": [
      "Epoch 1/30\n"
     ]
    },
    {
     "name": "stderr",
     "output_type": "stream",
     "text": [
      "C:\\Users\\nishi\\anaconda3\\lib\\site-packages\\keras\\backend.py:5612: UserWarning: \"`sparse_categorical_crossentropy` received `from_logits=True`, but the `output` argument was produced by a Softmax activation and thus does not represent logits. Was this intended?\n",
      "  output, from_logits = _get_logits(\n"
     ]
    },
    {
     "name": "stdout",
     "output_type": "stream",
     "text": [
      "46/46 [==============================] - 81s 2s/step - loss: 4.8399 - accuracy: 0.0740 - val_loss: 3.2565 - val_accuracy: 0.0494\n",
      "Epoch 2/30\n",
      "46/46 [==============================] - 79s 2s/step - loss: 2.8864 - accuracy: 0.1864 - val_loss: 3.7994 - val_accuracy: 0.1111\n",
      "Epoch 3/30\n",
      "46/46 [==============================] - 73s 2s/step - loss: 2.1772 - accuracy: 0.3595 - val_loss: 5.1303 - val_accuracy: 0.1111\n",
      "Epoch 4/30\n",
      "46/46 [==============================] - 74s 2s/step - loss: 1.6584 - accuracy: 0.5385 - val_loss: 2.3003 - val_accuracy: 0.4321\n",
      "Epoch 5/30\n",
      "46/46 [==============================] - 84s 2s/step - loss: 1.1303 - accuracy: 0.6709 - val_loss: 1.9221 - val_accuracy: 0.5556\n",
      "Epoch 6/30\n",
      "46/46 [==============================] - 77s 2s/step - loss: 0.8746 - accuracy: 0.7389 - val_loss: 5.0045 - val_accuracy: 0.1975\n",
      "Epoch 7/30\n",
      "46/46 [==============================] - 70s 1s/step - loss: 0.7206 - accuracy: 0.7959 - val_loss: 0.4332 - val_accuracy: 0.8519\n",
      "Epoch 8/30\n",
      "46/46 [==============================] - 76s 2s/step - loss: 0.5432 - accuracy: 0.8476 - val_loss: 0.4846 - val_accuracy: 0.8395\n",
      "Epoch 9/30\n",
      "46/46 [==============================] - 72s 2s/step - loss: 0.4202 - accuracy: 0.8876 - val_loss: 0.2792 - val_accuracy: 0.9383\n",
      "Epoch 10/30\n",
      "46/46 [==============================] - 79s 2s/step - loss: 0.5480 - accuracy: 0.8609 - val_loss: 2.6618 - val_accuracy: 0.4815\n",
      "Epoch 11/30\n",
      "46/46 [==============================] - 76s 2s/step - loss: 0.2809 - accuracy: 0.9157 - val_loss: 0.4182 - val_accuracy: 0.8519\n",
      "Epoch 12/30\n",
      "46/46 [==============================] - 77s 2s/step - loss: 0.2868 - accuracy: 0.9312 - val_loss: 0.4810 - val_accuracy: 0.8765\n",
      "Epoch 13/30\n",
      "46/46 [==============================] - 76s 2s/step - loss: 0.3021 - accuracy: 0.9283 - val_loss: 1.1503 - val_accuracy: 0.7654\n",
      "Epoch 14/30\n",
      "46/46 [==============================] - 74s 2s/step - loss: 0.2052 - accuracy: 0.9408 - val_loss: 0.3130 - val_accuracy: 0.8889\n",
      "Epoch 15/30\n",
      "46/46 [==============================] - 72s 2s/step - loss: 0.2448 - accuracy: 0.9297 - val_loss: 1.4822 - val_accuracy: 0.7284\n",
      "Epoch 16/30\n",
      "46/46 [==============================] - 76s 2s/step - loss: 0.1346 - accuracy: 0.9615 - val_loss: 0.3427 - val_accuracy: 0.9259\n",
      "Epoch 17/30\n",
      "46/46 [==============================] - 78s 2s/step - loss: 0.1650 - accuracy: 0.9534 - val_loss: 2.0122 - val_accuracy: 0.8272\n",
      "Epoch 18/30\n",
      "46/46 [==============================] - 75s 2s/step - loss: 0.2173 - accuracy: 0.9445 - val_loss: 0.2492 - val_accuracy: 0.9136\n",
      "Epoch 19/30\n",
      "46/46 [==============================] - 76s 2s/step - loss: 0.2238 - accuracy: 0.9512 - val_loss: 0.2011 - val_accuracy: 0.9753\n",
      "Epoch 20/30\n",
      "46/46 [==============================] - 74s 2s/step - loss: 0.1344 - accuracy: 0.9682 - val_loss: 5.3648 - val_accuracy: 0.5309\n",
      "Epoch 21/30\n",
      "46/46 [==============================] - 81s 2s/step - loss: 0.2999 - accuracy: 0.9512 - val_loss: 0.5038 - val_accuracy: 0.9012\n",
      "Epoch 22/30\n",
      "46/46 [==============================] - 82s 2s/step - loss: 0.2576 - accuracy: 0.9541 - val_loss: 0.1444 - val_accuracy: 0.9630\n",
      "Epoch 23/30\n",
      "46/46 [==============================] - 81s 2s/step - loss: 0.1158 - accuracy: 0.9763 - val_loss: 0.8650 - val_accuracy: 0.7778\n",
      "Epoch 24/30\n",
      "46/46 [==============================] - 74s 2s/step - loss: 0.2326 - accuracy: 0.9482 - val_loss: 0.4419 - val_accuracy: 0.9383\n",
      "Epoch 25/30\n",
      "46/46 [==============================] - 74s 2s/step - loss: 0.0636 - accuracy: 0.9778 - val_loss: 0.3983 - val_accuracy: 0.9383\n",
      "Epoch 26/30\n",
      "46/46 [==============================] - 76s 2s/step - loss: 0.1618 - accuracy: 0.9601 - val_loss: 0.2095 - val_accuracy: 0.9506\n",
      "Epoch 27/30\n",
      "46/46 [==============================] - 75s 2s/step - loss: 0.1354 - accuracy: 0.9719 - val_loss: 0.1671 - val_accuracy: 0.9506\n",
      "Epoch 28/30\n",
      "46/46 [==============================] - 78s 2s/step - loss: 0.1216 - accuracy: 0.9726 - val_loss: 0.5916 - val_accuracy: 0.9259\n",
      "Epoch 29/30\n",
      "46/46 [==============================] - 77s 2s/step - loss: 0.1521 - accuracy: 0.9697 - val_loss: 3.4584 - val_accuracy: 0.6543\n",
      "Epoch 30/30\n",
      "46/46 [==============================] - 88s 2s/step - loss: 0.1225 - accuracy: 0.9778 - val_loss: 0.5007 - val_accuracy: 0.9136\n"
     ]
    },
    {
     "data": {
      "text/plain": [
       "<keras.callbacks.History at 0x289f373dcc0>"
      ]
     },
     "execution_count": 27,
     "metadata": {},
     "output_type": "execute_result"
    }
   ],
   "source": [
    "cnn.fit(x = training_set , validation_data = test_set , epochs = 30)"
   ]
  },
  {
   "cell_type": "code",
   "execution_count": null,
   "id": "511b3a05",
   "metadata": {},
   "outputs": [],
   "source": [
    "# prepocess new image"
   ]
  },
  {
   "cell_type": "code",
   "execution_count": 28,
   "id": "639a5f47",
   "metadata": {},
   "outputs": [],
   "source": [
    "inception_net = tf.keras.applications.InceptionV3()"
   ]
  },
  {
   "cell_type": "code",
   "execution_count": null,
   "id": "93720920",
   "metadata": {},
   "outputs": [],
   "source": [
    "if result[0][0]==1:\n",
    "    print('Rasna')\n",
    "elif result[0][1]==1:\n",
    "    print('Arive-Dantu')\n",
    "elif result[0][2]==1:\n",
    "    print('Jackfruit')\n",
    "elif result[0][3]==1:\n",
    "    print('Neem')\n",
    "elif result[0][4]==1:\n",
    "    print('Basale')\n",
    "elif result[0][5]==1:\n",
    "    print('Indian Mustard')\n",
    "elif result[0][6]==1:\n",
    "    print('Karanda')\n",
    "elif result[0][7]==1:\n",
    "    print('Lemon')\n",
    "elif result[0][8]==1:\n",
    "    print('Roxburgh fig')\n",
    "elif result[0][9]==1:\n",
    "    print('Peepal Tree')\n",
    "elif result[0][10]==1:\n",
    "    print('Hibiscus Rosa-sinensis')\n",
    "elif result[0][11]==1:\n",
    "    print('Jasmine')\n",
    "elif result[0][12]==1:\n",
    "    print('Mango')\n",
    "elif result[0][13]==1:\n",
    "    print('Mint')\n",
    "elif result[0][14]==1:\n",
    "    print('Drumstick')\n",
    "elif result[0][15]==1:\n",
    "    print('Jamaica Cherry-Gasagase')\n",
    "elif result[0][16]==1:\n",
    "    print('Curry')\n",
    "elif result[0][17]==1:\n",
    "    print('Oleander')\n",
    "elif result[0][18]==1:\n",
    "    print('Parijata')\n",
    "elif result[0][19]==1:\n",
    "    print('Tulsi')\n",
    "elif result[0][20]==1:\n",
    "    print('Betel')\n",
    "elif result[0][21]==1:\n",
    "     print('Mexican Mint')\n",
    "elif result[0][22]==1:\n",
    "    print('Indian Beech')\n",
    "elif result[0][23]==1:\n",
    "    print('Guava')\n",
    "elif result[0][24]==1:\n",
    "    print('Pomegranate')\n",
    "elif result[0][25]==1:\n",
    "    print('Sandalwood')\n",
    "elif result[0][26]==1:\n",
    "    print('Jamun')\n",
    "elif result[0][27]==1:\n",
    "    print('Rose Apple')\n",
    "elif result[0][28]==1:\n",
    "    print('Crape Jasmine')\n",
    "elif result[0][29]==1:\n",
    "    print('Fenugreek')"
   ]
  },
  {
   "cell_type": "code",
   "execution_count": 29,
   "id": "c52b34bb",
   "metadata": {},
   "outputs": [],
   "source": [
    "response=requests.get(\"https://git.io/JJkYN\")\n",
    "class_names = training_set.class_names\n",
    "labels=response.text.split(\"\\n\")\n"
   ]
  },
  {
   "cell_type": "code",
   "execution_count": 30,
   "id": "dfc051ff",
   "metadata": {},
   "outputs": [],
   "source": [
    "import os\n",
    "import PIL\n",
    "from tensorflow import keras\n",
    "from tensorflow.keras import layers\n",
    "from tensorflow.keras.models import Sequential\n"
   ]
  },
  {
   "cell_type": "code",
   "execution_count": 31,
   "id": "0f9624f1",
   "metadata": {},
   "outputs": [],
   "source": [
    "def image_prediction(img):\n",
    "  img_4d=img.reshape(-1,128,128,3)\n",
    "  prediction=cnn.predict(img_4d)[0]\n",
    "  return {class_names[i]: float(prediction[i]) for i in range(30)}"
   ]
  },
  {
   "cell_type": "code",
   "execution_count": 32,
   "id": "8c795cdc",
   "metadata": {},
   "outputs": [
    {
     "name": "stderr",
     "output_type": "stream",
     "text": [
      "C:\\Users\\nishi\\anaconda3\\lib\\site-packages\\gradio\\inputs.py:259: UserWarning: Usage of gradio.inputs is deprecated, and will not be supported in the future, please import your component from gradio.components\n",
      "  warnings.warn(\n",
      "C:\\Users\\nishi\\anaconda3\\lib\\site-packages\\gradio\\inputs.py:262: UserWarning: `optional` parameter is deprecated, and it has no effect\n",
      "  super().__init__(\n",
      "C:\\Users\\nishi\\anaconda3\\lib\\site-packages\\gradio\\outputs.py:197: UserWarning: Usage of gradio.outputs is deprecated, and will not be supported in the future, please import your components from gradio.components\n",
      "  warnings.warn(\n",
      "C:\\Users\\nishi\\anaconda3\\lib\\site-packages\\gradio\\outputs.py:200: UserWarning: The 'type' parameter has been deprecated. Use the Number component instead.\n",
      "  super().__init__(num_top_classes=num_top_classes, type=type, label=label)\n"
     ]
    }
   ],
   "source": [
    "image = gr.inputs.Image(shape=(128,128))\n",
    "label = gr.outputs.Label(num_top_classes=3)"
   ]
  },
  {
   "cell_type": "code",
   "execution_count": null,
   "id": "58e1a6c8",
   "metadata": {},
   "outputs": [
    {
     "name": "stdout",
     "output_type": "stream",
     "text": [
      "Running on local URL:  http://127.0.0.1:7860\n",
      "\n",
      "To create a public link, set `share=True` in `launch()`.\n"
     ]
    },
    {
     "data": {
      "text/html": [
       "<div><iframe src=\"http://127.0.0.1:7860/\" width=\"100%\" height=\"500\" allow=\"autoplay; camera; microphone; clipboard-read; clipboard-write;\" frameborder=\"0\" allowfullscreen></iframe></div>"
      ],
      "text/plain": [
       "<IPython.core.display.HTML object>"
      ]
     },
     "metadata": {},
     "output_type": "display_data"
    },
    {
     "name": "stdout",
     "output_type": "stream",
     "text": [
      "1/1 [==============================] - 0s 372ms/step\n",
      "1/1 [==============================] - 0s 60ms/step\n",
      "1/1 [==============================] - 0s 52ms/step\n",
      "1/1 [==============================] - 0s 48ms/step\n",
      "1/1 [==============================] - 0s 67ms/step\n",
      "1/1 [==============================] - 0s 51ms/step\n",
      "1/1 [==============================] - 0s 55ms/step\n",
      "1/1 [==============================] - 0s 50ms/step\n",
      "1/1 [==============================] - 0s 62ms/step\n",
      "1/1 [==============================] - 0s 53ms/step\n",
      "1/1 [==============================] - 0s 50ms/step\n",
      "1/1 [==============================] - 0s 132ms/step\n"
     ]
    }
   ],
   "source": [
    "gr.Interface(fn=image_prediction, inputs=image, outputs=label).launch(debug='True')"
   ]
  },
  {
   "cell_type": "code",
   "execution_count": null,
   "id": "cc3da4a0",
   "metadata": {},
   "outputs": [],
   "source": []
  }
 ],
 "metadata": {
  "kernelspec": {
   "display_name": "Python 3 (ipykernel)",
   "language": "python",
   "name": "python3"
  },
  "language_info": {
   "codemirror_mode": {
    "name": "ipython",
    "version": 3
   },
   "file_extension": ".py",
   "mimetype": "text/x-python",
   "name": "python",
   "nbconvert_exporter": "python",
   "pygments_lexer": "ipython3",
   "version": "3.10.9"
  }
 },
 "nbformat": 4,
 "nbformat_minor": 5
}
